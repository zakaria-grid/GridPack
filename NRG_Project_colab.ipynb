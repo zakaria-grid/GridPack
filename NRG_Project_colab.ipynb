{
  "nbformat": 4,
  "nbformat_minor": 0,
  "metadata": {
    "colab": {
      "name": "NRG_Project_colab.ipynb",
      "provenance": [],
      "collapsed_sections": [],
      "include_colab_link": true
    },
    "kernelspec": {
      "name": "python3",
      "display_name": "Python 3"
    },
    "language_info": {
      "name": "python"
    }
  },
  "cells": [
    {
      "cell_type": "markdown",
      "metadata": {
        "id": "view-in-github",
        "colab_type": "text"
      },
      "source": [
        "<a href=\"https://colab.research.google.com/github/zakaria-grid/GridPack/blob/master/NRG_Project_colab.ipynb\" target=\"_parent\"><img src=\"https://colab.research.google.com/assets/colab-badge.svg\" alt=\"Open In Colab\"/></a>"
      ]
    },
    {
      "cell_type": "markdown",
      "source": [
        "#**Problem 1**"
      ],
      "metadata": {
        "id": "CL_mzV6148gZ"
      }
    },
    {
      "cell_type": "markdown",
      "source": [
        "### **Question**: If an event has log-odds 3.2, what is the probability of this event? "
      ],
      "metadata": {
        "id": "6S6wYErm5FVR"
      }
    },
    {
      "cell_type": "markdown",
      "source": [
        "###**Answer**:"
      ],
      "metadata": {
        "id": "XEGZvtjs5NCI"
      }
    },
    {
      "cell_type": "code",
      "source": [
        "import numpy as np \n",
        "\n",
        "p=np.exp(3.2)/(1+np.exp(3.2))\n",
        "print(p)"
      ],
      "metadata": {
        "colab": {
          "base_uri": "https://localhost:8080/"
        },
        "id": "p9ebK9505IEJ",
        "outputId": "62660c2d-1576-47af-af66-ed1eab50bd78"
      },
      "execution_count": null,
      "outputs": [
        {
          "output_type": "stream",
          "name": "stdout",
          "text": [
            "0.9608342772032357\n"
          ]
        }
      ]
    },
    {
      "cell_type": "markdown",
      "source": [
        "\n",
        "\n",
        "---\n",
        "\n"
      ],
      "metadata": {
        "id": "F7zZSUP6HXp1"
      }
    },
    {
      "cell_type": "markdown",
      "source": [
        "#**Problem 2**"
      ],
      "metadata": {
        "id": "brf4dZZC5vo-"
      }
    },
    {
      "cell_type": "markdown",
      "source": [
        "###**Question**: Fit a model to the height_data.csv file. For every 10 units of increase in weight, how much taller does the model predict a person gets? "
      ],
      "metadata": {
        "id": "BZz6ED6d5zv3"
      }
    },
    {
      "cell_type": "markdown",
      "source": [
        "###**Answer:**"
      ],
      "metadata": {
        "id": "1PUK50kp6GA6"
      }
    },
    {
      "cell_type": "code",
      "source": [
        "#Import the required librairies\n",
        "\n",
        "from matplotlib import pyplot as plt\n",
        "import numpy as np\n",
        "from sklearn.linear_model import LinearRegression\n",
        "import seaborn as sns\n",
        "from sklearn.model_selection import train_test_split\n",
        "from sklearn.metrics import mean_squared_error\n",
        "from sklearn.metrics import r2_score\n",
        "from scipy.optimize import curve_fit\n",
        "from numpy import arange"
      ],
      "metadata": {
        "id": "YjoQsffKMTze"
      },
      "execution_count": null,
      "outputs": []
    },
    {
      "cell_type": "code",
      "source": [
        "# Import the data located on googd drive \n",
        "\n",
        "from google.colab import drive\n",
        "import pandas\n",
        "\n",
        "drive.mount('/content/gdrive')\n",
        "%cd '/content/gdrive/My Drive/ML_Project'\n",
        "\n",
        "#Read the data\n",
        "data = pandas.read_csv(\"heigh_data.csv\") \n",
        "\n",
        "#Select only the height and weight features\n",
        "data = data.loc[:, ['height', 'weight']]"
      ],
      "metadata": {
        "colab": {
          "base_uri": "https://localhost:8080/"
        },
        "id": "lKgVBFkFISFw",
        "outputId": "ad906994-c276-472a-9f5d-4ec59ee6a220"
      },
      "execution_count": null,
      "outputs": [
        {
          "output_type": "stream",
          "name": "stdout",
          "text": [
            "Mounted at /content/gdrive\n",
            "/content/gdrive/My Drive/ML_Project\n"
          ]
        }
      ]
    },
    {
      "cell_type": "code",
      "source": [
        "data"
      ],
      "metadata": {
        "colab": {
          "base_uri": "https://localhost:8080/",
          "height": 424
        },
        "id": "z8DdvxiEJChy",
        "outputId": "82be06d7-7b88-4b17-c46d-e28d4c757282"
      },
      "execution_count": null,
      "outputs": [
        {
          "output_type": "execute_result",
          "data": {
            "text/html": [
              "\n",
              "  <div id=\"df-e86cbbff-9b3b-4f1b-86bb-4ac9e1840001\">\n",
              "    <div class=\"colab-df-container\">\n",
              "      <div>\n",
              "<style scoped>\n",
              "    .dataframe tbody tr th:only-of-type {\n",
              "        vertical-align: middle;\n",
              "    }\n",
              "\n",
              "    .dataframe tbody tr th {\n",
              "        vertical-align: top;\n",
              "    }\n",
              "\n",
              "    .dataframe thead th {\n",
              "        text-align: right;\n",
              "    }\n",
              "</style>\n",
              "<table border=\"1\" class=\"dataframe\">\n",
              "  <thead>\n",
              "    <tr style=\"text-align: right;\">\n",
              "      <th></th>\n",
              "      <th>height</th>\n",
              "      <th>weight</th>\n",
              "    </tr>\n",
              "  </thead>\n",
              "  <tbody>\n",
              "    <tr>\n",
              "      <th>0</th>\n",
              "      <td>151.765</td>\n",
              "      <td>47.825606</td>\n",
              "    </tr>\n",
              "    <tr>\n",
              "      <th>1</th>\n",
              "      <td>139.700</td>\n",
              "      <td>36.485807</td>\n",
              "    </tr>\n",
              "    <tr>\n",
              "      <th>2</th>\n",
              "      <td>136.525</td>\n",
              "      <td>31.864838</td>\n",
              "    </tr>\n",
              "    <tr>\n",
              "      <th>3</th>\n",
              "      <td>156.845</td>\n",
              "      <td>53.041914</td>\n",
              "    </tr>\n",
              "    <tr>\n",
              "      <th>4</th>\n",
              "      <td>145.415</td>\n",
              "      <td>41.276872</td>\n",
              "    </tr>\n",
              "    <tr>\n",
              "      <th>...</th>\n",
              "      <td>...</td>\n",
              "      <td>...</td>\n",
              "    </tr>\n",
              "    <tr>\n",
              "      <th>539</th>\n",
              "      <td>145.415</td>\n",
              "      <td>31.127751</td>\n",
              "    </tr>\n",
              "    <tr>\n",
              "      <th>540</th>\n",
              "      <td>162.560</td>\n",
              "      <td>52.163080</td>\n",
              "    </tr>\n",
              "    <tr>\n",
              "      <th>541</th>\n",
              "      <td>156.210</td>\n",
              "      <td>54.062497</td>\n",
              "    </tr>\n",
              "    <tr>\n",
              "      <th>542</th>\n",
              "      <td>71.120</td>\n",
              "      <td>8.051258</td>\n",
              "    </tr>\n",
              "    <tr>\n",
              "      <th>543</th>\n",
              "      <td>158.750</td>\n",
              "      <td>52.531624</td>\n",
              "    </tr>\n",
              "  </tbody>\n",
              "</table>\n",
              "<p>544 rows × 2 columns</p>\n",
              "</div>\n",
              "      <button class=\"colab-df-convert\" onclick=\"convertToInteractive('df-e86cbbff-9b3b-4f1b-86bb-4ac9e1840001')\"\n",
              "              title=\"Convert this dataframe to an interactive table.\"\n",
              "              style=\"display:none;\">\n",
              "        \n",
              "  <svg xmlns=\"http://www.w3.org/2000/svg\" height=\"24px\"viewBox=\"0 0 24 24\"\n",
              "       width=\"24px\">\n",
              "    <path d=\"M0 0h24v24H0V0z\" fill=\"none\"/>\n",
              "    <path d=\"M18.56 5.44l.94 2.06.94-2.06 2.06-.94-2.06-.94-.94-2.06-.94 2.06-2.06.94zm-11 1L8.5 8.5l.94-2.06 2.06-.94-2.06-.94L8.5 2.5l-.94 2.06-2.06.94zm10 10l.94 2.06.94-2.06 2.06-.94-2.06-.94-.94-2.06-.94 2.06-2.06.94z\"/><path d=\"M17.41 7.96l-1.37-1.37c-.4-.4-.92-.59-1.43-.59-.52 0-1.04.2-1.43.59L10.3 9.45l-7.72 7.72c-.78.78-.78 2.05 0 2.83L4 21.41c.39.39.9.59 1.41.59.51 0 1.02-.2 1.41-.59l7.78-7.78 2.81-2.81c.8-.78.8-2.07 0-2.86zM5.41 20L4 18.59l7.72-7.72 1.47 1.35L5.41 20z\"/>\n",
              "  </svg>\n",
              "      </button>\n",
              "      \n",
              "  <style>\n",
              "    .colab-df-container {\n",
              "      display:flex;\n",
              "      flex-wrap:wrap;\n",
              "      gap: 12px;\n",
              "    }\n",
              "\n",
              "    .colab-df-convert {\n",
              "      background-color: #E8F0FE;\n",
              "      border: none;\n",
              "      border-radius: 50%;\n",
              "      cursor: pointer;\n",
              "      display: none;\n",
              "      fill: #1967D2;\n",
              "      height: 32px;\n",
              "      padding: 0 0 0 0;\n",
              "      width: 32px;\n",
              "    }\n",
              "\n",
              "    .colab-df-convert:hover {\n",
              "      background-color: #E2EBFA;\n",
              "      box-shadow: 0px 1px 2px rgba(60, 64, 67, 0.3), 0px 1px 3px 1px rgba(60, 64, 67, 0.15);\n",
              "      fill: #174EA6;\n",
              "    }\n",
              "\n",
              "    [theme=dark] .colab-df-convert {\n",
              "      background-color: #3B4455;\n",
              "      fill: #D2E3FC;\n",
              "    }\n",
              "\n",
              "    [theme=dark] .colab-df-convert:hover {\n",
              "      background-color: #434B5C;\n",
              "      box-shadow: 0px 1px 3px 1px rgba(0, 0, 0, 0.15);\n",
              "      filter: drop-shadow(0px 1px 2px rgba(0, 0, 0, 0.3));\n",
              "      fill: #FFFFFF;\n",
              "    }\n",
              "  </style>\n",
              "\n",
              "      <script>\n",
              "        const buttonEl =\n",
              "          document.querySelector('#df-e86cbbff-9b3b-4f1b-86bb-4ac9e1840001 button.colab-df-convert');\n",
              "        buttonEl.style.display =\n",
              "          google.colab.kernel.accessAllowed ? 'block' : 'none';\n",
              "\n",
              "        async function convertToInteractive(key) {\n",
              "          const element = document.querySelector('#df-e86cbbff-9b3b-4f1b-86bb-4ac9e1840001');\n",
              "          const dataTable =\n",
              "            await google.colab.kernel.invokeFunction('convertToInteractive',\n",
              "                                                     [key], {});\n",
              "          if (!dataTable) return;\n",
              "\n",
              "          const docLinkHtml = 'Like what you see? Visit the ' +\n",
              "            '<a target=\"_blank\" href=https://colab.research.google.com/notebooks/data_table.ipynb>data table notebook</a>'\n",
              "            + ' to learn more about interactive tables.';\n",
              "          element.innerHTML = '';\n",
              "          dataTable['output_type'] = 'display_data';\n",
              "          await google.colab.output.renderOutput(dataTable, element);\n",
              "          const docLink = document.createElement('div');\n",
              "          docLink.innerHTML = docLinkHtml;\n",
              "          element.appendChild(docLink);\n",
              "        }\n",
              "      </script>\n",
              "    </div>\n",
              "  </div>\n",
              "  "
            ],
            "text/plain": [
              "      height     weight\n",
              "0    151.765  47.825606\n",
              "1    139.700  36.485807\n",
              "2    136.525  31.864838\n",
              "3    156.845  53.041914\n",
              "4    145.415  41.276872\n",
              "..       ...        ...\n",
              "539  145.415  31.127751\n",
              "540  162.560  52.163080\n",
              "541  156.210  54.062497\n",
              "542   71.120   8.051258\n",
              "543  158.750  52.531624\n",
              "\n",
              "[544 rows x 2 columns]"
            ]
          },
          "metadata": {},
          "execution_count": 10
        }
      ]
    },
    {
      "cell_type": "code",
      "source": [
        "#check the data distribution \n",
        "sns.scatterplot(x=\"weight\",y='height', data=data)"
      ],
      "metadata": {
        "colab": {
          "base_uri": "https://localhost:8080/",
          "height": 296
        },
        "id": "D1vQFXZt8a-5",
        "outputId": "a6da410b-fc8b-4bf5-81bd-9ee0f52829a8"
      },
      "execution_count": null,
      "outputs": [
        {
          "output_type": "execute_result",
          "data": {
            "text/plain": [
              "<matplotlib.axes._subplots.AxesSubplot at 0x7fc7509b67d0>"
            ]
          },
          "metadata": {},
          "execution_count": 11
        },
        {
          "output_type": "display_data",
          "data": {
            "image/png": "[encoded data removed]",
            "text/plain": [
              "<Figure size 432x288 with 1 Axes>"
            ]
          },
          "metadata": {
            "needs_background": "light"
          }
        }
      ]
    },
    {
      "cell_type": "code",
      "source": [
        "#Prepare data for training a linear regression model \n",
        "\n",
        "#converting data into arrays\n",
        "dataset=data.values\n",
        "height = dataset[0:,0:1]\n",
        "weight = dataset[0:,1:2]\n",
        "\n",
        "# Fit a linear regression model\n",
        "model = LinearRegression(fit_intercept=True)\n",
        "model.fit(weight,height) \n",
        "print('Height = %.5f * Weight + %.5f' % (model.coef_, model.intercept_))"
      ],
      "metadata": {
        "colab": {
          "base_uri": "https://localhost:8080/"
        },
        "id": "tYq5NQ7-M-jp",
        "outputId": "6d32f583-b8ee-41b8-cfdd-1c719ce2e1ab"
      },
      "execution_count": null,
      "outputs": [
        {
          "output_type": "stream",
          "name": "stdout",
          "text": [
            "Height = 1.76430 * Weight + 75.43591\n"
          ]
        }
      ]
    },
    {
      "cell_type": "code",
      "source": [
        "#Check the model performance by computing the R2 regression score\n",
        "linear_prediction=model.predict(weight)\n",
        "print ('R2: ', r2_score(linear_prediction,height))"
      ],
      "metadata": {
        "colab": {
          "base_uri": "https://localhost:8080/"
        },
        "id": "8ypZ3tSO0r1j",
        "outputId": "06493559-65eb-4deb-e196-7c22adea73e6"
      },
      "execution_count": null,
      "outputs": [
        {
          "output_type": "stream",
          "name": "stdout",
          "text": [
            "R2:  0.8702434113181764\n"
          ]
        }
      ]
    },
    {
      "cell_type": "code",
      "source": [
        "# Plot a trend line on the scatter plot. \n",
        "\n",
        "# Compute the weight line using some inputs and their respective height line\n",
        "weight_line = arange(min(weight), max(weight), 1)\n",
        "height_line = weight_line* model.coef_+ model.intercept_\n",
        "#Plot scatter plot \n",
        "plt.scatter(weight, height)\n",
        "#Plot the trend line\n",
        "plt.plot(weight_line, height_line[0,:], '--', color='red')\n",
        "plt.xlabel('Weight')\n",
        "plt.ylabel('height')\n",
        "plt.show()"
      ],
      "metadata": {
        "colab": {
          "base_uri": "https://localhost:8080/",
          "height": 279
        },
        "id": "KL5mxiau2XjF",
        "outputId": "4a598e27-eb8f-4f1d-bdfe-2c21621f8a09"
      },
      "execution_count": null,
      "outputs": [
        {
          "output_type": "display_data",
          "data": {
            "image/png": "[encoded data removed]",
            "text/plain": [
              "<Figure size 432x288 with 1 Axes>"
            ]
          },
          "metadata": {
            "needs_background": "light"
          }
        }
      ]
    },
    {
      "cell_type": "markdown",
      "source": [
        "###**Answer to the question:** \n",
        "The model predicts that a person's height will increase by 1.76 units for every unit of weight. Thus, for 10 units of weight, the height would increase by 17.6 units.\n",
        "It is worth mentioning that this linear regression model doesn't fit perfectly the data, as evidenced by the R2 value, and, therefore, other nonlinear regression models could potentially enhance the performance even further. "
      ],
      "metadata": {
        "id": "oM3F9X_XNZLb"
      }
    },
    {
      "cell_type": "markdown",
      "source": [
        "\n",
        "\n",
        "---\n",
        "\n"
      ],
      "metadata": {
        "id": "Aqk6_1l8HUKN"
      }
    },
    {
      "cell_type": "markdown",
      "source": [
        "#Problem 3"
      ],
      "metadata": {
        "id": "Dbby7evyFX8U"
      }
    },
    {
      "cell_type": "markdown",
      "source": [
        "### **Question**: Fit a model on time to event data found in the survival_data.csv file. Explain how different variables (var1, var2, and var3) might influence hazards. "
      ],
      "metadata": {
        "id": "3Gma7BnKKnit"
      }
    },
    {
      "cell_type": "markdown",
      "source": [
        "### **Answer:** "
      ],
      "metadata": {
        "id": "QrhD2FBuKzY4"
      }
    },
    {
      "cell_type": "code",
      "source": [
        "pip install lifelines # Survival analysis required package"
      ],
      "metadata": {
        "id": "m-eCd_aMGtS1"
      },
      "execution_count": null,
      "outputs": []
    },
    {
      "cell_type": "code",
      "source": [
        "from lifelines import KaplanMeierFitter #Survival analysis library\n",
        "from sklearn.preprocessing import LabelEncoder #Converting feature types library"
      ],
      "metadata": {
        "id": "QWQ7OArAGTGC"
      },
      "execution_count": null,
      "outputs": []
    },
    {
      "cell_type": "code",
      "source": [
        "#Read the data\n",
        "data = pandas.read_csv(\"survival_data.csv\")\n",
        "\n",
        "#Check event (E) type\n",
        "print((data['E'].dtype))\n",
        "\n"
      ],
      "metadata": {
        "colab": {
          "base_uri": "https://localhost:8080/"
        },
        "id": "Op0bx7i-Fa1u",
        "outputId": "a8a1995d-8a4e-4523-f505-47cbd716edba"
      },
      "execution_count": null,
      "outputs": [
        {
          "output_type": "stream",
          "name": "stdout",
          "text": [
            "int64\n"
          ]
        }
      ]
    },
    {
      "cell_type": "code",
      "source": [
        "# Prepare the data before fitting the Keplan Meier model\n",
        "\n",
        "\n",
        "#Convert event (E) to a binary feature\n",
        "encoder = LabelEncoder()\n",
        "data['E'] = encoder.fit_transform(data['E'])"
      ],
      "metadata": {
        "id": "3zyCVLW2JLUM"
      },
      "execution_count": null,
      "outputs": []
    },
    {
      "cell_type": "code",
      "source": [
        "# Fit the model\n",
        "km = KaplanMeierFitter()\n",
        "km.fit(data['T'], data['E'])\n",
        "# Plot the survival function with confidence interval\n",
        "\n",
        "km.plot_survival_function()\n",
        "plt.title('Survival Curve estimated with Kaplan-Meier Fitter with confidence intervals')\n",
        "plt.show()"
      ],
      "metadata": {
        "colab": {
          "base_uri": "https://localhost:8080/",
          "height": 295
        },
        "id": "DVeiVuTgGIFs",
        "outputId": "a8a13052-2149-4201-9079-c77ffc470443"
      },
      "execution_count": null,
      "outputs": [
        {
          "output_type": "display_data",
          "data": {
            "image/png": "[encoded data removed]",
            "text/plain": [
              "<Figure size 432x288 with 1 Axes>"
            ]
          },
          "metadata": {
            "needs_background": "light"
          }
        }
      ]
    },
    {
      "cell_type": "code",
      "source": [
        "# Computer the influence of var1, var2, var3 on the hazards.\n",
        "\n",
        "from lifelines import CoxPHFitter\n",
        "# Fit the Cox model\n",
        "cox = CoxPHFitter(alpha=0.05) # 95% confidence interval\n",
        "cox.fit(data, duration_col='T', event_col='E')\n",
        "# model summary\n",
        "cox.print_summary()"
      ],
      "metadata": {
        "colab": {
          "base_uri": "https://localhost:8080/",
          "height": 537
        },
        "id": "nVelYAMWLtth",
        "outputId": "27f2ab77-4df5-4a0a-b108-8d8c7c76673a"
      },
      "execution_count": null,
      "outputs": [
        {
          "output_type": "display_data",
          "data": {
            "text/latex": "\\begin{tabular}{lrrrrrrrrrr}\n\\toprule\n{} &  coef &  exp(coef) &  se(coef) &  coef lower 95\\% &  coef upper 95\\% &  exp(coef) lower 95\\% &  exp(coef) upper 95\\% &    z &    p &  -log2(p) \\\\\ncovariate &       &            &           &                 &                 &                      &                      &      &      &           \\\\\n\\midrule\nvar1      &  0.22 &       1.25 &      0.07 &            0.08 &            0.37 &                 1.08 &                 1.44 & 2.99 & 0.00 &      8.49 \\\\\nvar2      &  0.05 &       1.05 &      0.08 &           -0.11 &            0.21 &                 0.89 &                 1.24 & 0.61 & 0.54 &      0.89 \\\\\nvar3      &  0.22 &       1.24 &      0.08 &            0.07 &            0.37 &                 1.07 &                 1.44 & 2.88 & 0.00 &      7.97 \\\\\n\\bottomrule\n\\end{tabular}\n",
            "text/html": [
              "<div>\n",
              "<style scoped>\n",
              "    .dataframe tbody tr th:only-of-type {\n",
              "        vertical-align: middle;\n",
              "    }\n",
              "\n",
              "    .dataframe tbody tr th {\n",
              "        vertical-align: top;\n",
              "    }\n",
              "\n",
              "    .dataframe thead th {\n",
              "        text-align: right;\n",
              "    }\n",
              "</style>\n",
              "<table border=\"1\" class=\"dataframe\">\n",
              "  <tbody>\n",
              "    <tr>\n",
              "      <th>model</th>\n",
              "      <td>lifelines.CoxPHFitter</td>\n",
              "    </tr>\n",
              "    <tr>\n",
              "      <th>duration col</th>\n",
              "      <td>'T'</td>\n",
              "    </tr>\n",
              "    <tr>\n",
              "      <th>event col</th>\n",
              "      <td>'E'</td>\n",
              "    </tr>\n",
              "    <tr>\n",
              "      <th>baseline estimation</th>\n",
              "      <td>breslow</td>\n",
              "    </tr>\n",
              "    <tr>\n",
              "      <th>number of observations</th>\n",
              "      <td>200</td>\n",
              "    </tr>\n",
              "    <tr>\n",
              "      <th>number of events observed</th>\n",
              "      <td>189</td>\n",
              "    </tr>\n",
              "    <tr>\n",
              "      <th>partial log-likelihood</th>\n",
              "      <td>-807.62</td>\n",
              "    </tr>\n",
              "    <tr>\n",
              "      <th>time fit was run</th>\n",
              "      <td>2022-03-07 06:48:42 UTC</td>\n",
              "    </tr>\n",
              "  </tbody>\n",
              "</table>\n",
              "</div><table border=\"1\" class=\"dataframe\">\n",
              "  <thead>\n",
              "    <tr style=\"text-align: right;\">\n",
              "      <th style=\"min-width: 12px;\"></th>\n",
              "      <th style=\"min-width: 12px;\">coef</th>\n",
              "      <th style=\"min-width: 12px;\">exp(coef)</th>\n",
              "      <th style=\"min-width: 12px;\">se(coef)</th>\n",
              "      <th style=\"min-width: 12px;\">coef lower 95%</th>\n",
              "      <th style=\"min-width: 12px;\">coef upper 95%</th>\n",
              "      <th style=\"min-width: 12px;\">exp(coef) lower 95%</th>\n",
              "      <th style=\"min-width: 12px;\">exp(coef) upper 95%</th>\n",
              "      <th style=\"min-width: 12px;\">z</th>\n",
              "      <th style=\"min-width: 12px;\">p</th>\n",
              "      <th style=\"min-width: 12px;\">-log2(p)</th>\n",
              "    </tr>\n",
              "  </thead>\n",
              "  <tbody>\n",
              "    <tr>\n",
              "      <th>var1</th>\n",
              "      <td>0.22</td>\n",
              "      <td>1.25</td>\n",
              "      <td>0.07</td>\n",
              "      <td>0.08</td>\n",
              "      <td>0.37</td>\n",
              "      <td>1.08</td>\n",
              "      <td>1.44</td>\n",
              "      <td>2.99</td>\n",
              "      <td>&lt;0.005</td>\n",
              "      <td>8.49</td>\n",
              "    </tr>\n",
              "    <tr>\n",
              "      <th>var2</th>\n",
              "      <td>0.05</td>\n",
              "      <td>1.05</td>\n",
              "      <td>0.08</td>\n",
              "      <td>-0.11</td>\n",
              "      <td>0.21</td>\n",
              "      <td>0.89</td>\n",
              "      <td>1.24</td>\n",
              "      <td>0.61</td>\n",
              "      <td>0.54</td>\n",
              "      <td>0.89</td>\n",
              "    </tr>\n",
              "    <tr>\n",
              "      <th>var3</th>\n",
              "      <td>0.22</td>\n",
              "      <td>1.24</td>\n",
              "      <td>0.08</td>\n",
              "      <td>0.07</td>\n",
              "      <td>0.37</td>\n",
              "      <td>1.07</td>\n",
              "      <td>1.44</td>\n",
              "      <td>2.88</td>\n",
              "      <td>&lt;0.005</td>\n",
              "      <td>7.97</td>\n",
              "    </tr>\n",
              "  </tbody>\n",
              "</table><br><div>\n",
              "<style scoped>\n",
              "    .dataframe tbody tr th:only-of-type {\n",
              "        vertical-align: middle;\n",
              "    }\n",
              "\n",
              "    .dataframe tbody tr th {\n",
              "        vertical-align: top;\n",
              "    }\n",
              "\n",
              "    .dataframe thead th {\n",
              "        text-align: right;\n",
              "    }\n",
              "</style>\n",
              "<table border=\"1\" class=\"dataframe\">\n",
              "  <tbody>\n",
              "    <tr>\n",
              "      <th>Concordance</th>\n",
              "      <td>0.58</td>\n",
              "    </tr>\n",
              "    <tr>\n",
              "      <th>Partial AIC</th>\n",
              "      <td>1621.24</td>\n",
              "    </tr>\n",
              "    <tr>\n",
              "      <th>log-likelihood ratio test</th>\n",
              "      <td>15.54 on 3 df</td>\n",
              "    </tr>\n",
              "    <tr>\n",
              "      <th>-log2(p) of ll-ratio test</th>\n",
              "      <td>9.47</td>\n",
              "    </tr>\n",
              "  </tbody>\n",
              "</table>\n",
              "</div>"
            ],
            "text/plain": [
              "<lifelines.CoxPHFitter: fitted with 200 total observations, 11 right-censored observations>\n",
              "             duration col = 'T'\n",
              "                event col = 'E'\n",
              "      baseline estimation = breslow\n",
              "   number of observations = 200\n",
              "number of events observed = 189\n",
              "   partial log-likelihood = -807.62\n",
              "         time fit was run = 2022-03-07 06:48:42 UTC\n",
              "\n",
              "---\n",
              "            coef  exp(coef)   se(coef)   coef lower 95%   coef upper 95%  exp(coef) lower 95%  exp(coef) upper 95%\n",
              "covariate                                                                                                         \n",
              "var1        0.22       1.25       0.07             0.08             0.37                 1.08                 1.44\n",
              "var2        0.05       1.05       0.08            -0.11             0.21                 0.89                 1.24\n",
              "var3        0.22       1.24       0.08             0.07             0.37                 1.07                 1.44\n",
              "\n",
              "             z      p   -log2(p)\n",
              "covariate                       \n",
              "var1      2.99 <0.005       8.49\n",
              "var2      0.61   0.54       0.89\n",
              "var3      2.88 <0.005       7.97\n",
              "---\n",
              "Concordance = 0.58\n",
              "Partial AIC = 1621.24\n",
              "log-likelihood ratio test = 15.54 on 3 df\n",
              "-log2(p) of ll-ratio test = 9.47"
            ]
          },
          "metadata": {}
        }
      ]
    },
    {
      "cell_type": "code",
      "source": [
        "# Plot factor effects \n",
        "coxph.plot()"
      ],
      "metadata": {
        "colab": {
          "base_uri": "https://localhost:8080/",
          "height": 296
        },
        "id": "ojX6f1HkMe3R",
        "outputId": "9756177d-4033-4523-93c3-43197f0d02ad"
      },
      "execution_count": null,
      "outputs": [
        {
          "output_type": "execute_result",
          "data": {
            "text/plain": [
              "<matplotlib.axes._subplots.AxesSubplot at 0x7fdc39993190>"
            ]
          },
          "metadata": {},
          "execution_count": 210
        },
        {
          "output_type": "display_data",
          "data": {
            "image/png": "[encoded data removed]",
            "text/plain": [
              "<Figure size 432x288 with 1 Axes>"
            ]
          },
          "metadata": {
            "needs_background": "light"
          }
        }
      ]
    },
    {
      "cell_type": "code",
      "source": [
        "# Check the model assumptions\n",
        "coxph.check_assumptions(data)"
      ],
      "metadata": {
        "colab": {
          "base_uri": "https://localhost:8080/"
        },
        "id": "Me4D0j9IRSvO",
        "outputId": "8dfd11c5-3f29-45bf-94f8-3855e06129fd"
      },
      "execution_count": null,
      "outputs": [
        {
          "output_type": "stream",
          "name": "stdout",
          "text": [
            "Proportional hazard assumption looks okay.\n"
          ]
        },
        {
          "output_type": "stream",
          "name": "stderr",
          "text": [
            "/usr/local/lib/python3.7/dist-packages/lifelines/fitters/mixins.py:108: FutureWarning: Index.__and__ operating as a set operation is deprecated, in the future this will be a logical operation matching Series.__and__.  Use index.intersection(other) instead\n",
            "  for variable in self.params_.index & (columns or self.params_.index):\n"
          ]
        },
        {
          "output_type": "execute_result",
          "data": {
            "text/plain": [
              "[]"
            ]
          },
          "metadata": {},
          "execution_count": 212
        }
      ]
    },
    {
      "cell_type": "markdown",
      "source": [
        "###**Answer:** \n",
        "\n",
        "The p-value for var1 is less than 0.005 and the Hazard Ratio (HR) is 1.25;\n",
        "Indicating a strong relationship between var1 and increased hazards with 95% confidence. \n",
        "\n",
        "The p-value for var2 is 0.54 and the HR is 1.05, indicating that var2 is insignificant and is making a small contribution to the difference in HR. \n",
        "\n",
        "The p-value for var3 is less than 0.005 and the HR is 1.24, suggesting a strong correlation between var3 and increased hazards with 95% confidence. \n",
        "\n",
        "The HR for Var1 is slightly greater than that for Var3, meaning that the former is more influential than the latter.  \n",
        "\n",
        "As can be seen from the plot above, var2, which is close to 0, has a smaller influence compared to var1 and var3. \n",
        "\n",
        "Accordingly, it can be concluded with a 95% confidence level that var1 has a larger impact, followed by var3; whereas var2 has a negligible effect. \n",
        "\n"
      ],
      "metadata": {
        "id": "geyqa43vN9sM"
      }
    }
  ]
}